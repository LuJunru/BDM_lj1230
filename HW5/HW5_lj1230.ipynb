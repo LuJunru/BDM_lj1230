{
 "cells": [
  {
   "cell_type": "code",
   "execution_count": 7,
   "metadata": {},
   "outputs": [],
   "source": [
    "import os\n",
    "os.environ['PYSPARK_PYTHON'] = '/nfshome/lj1230/.conda/envs/myEnv/bin/python3.5'\n",
    "\n",
    "from pyspark import SparkContext\n",
    "sc = SparkContext('local', 'pyspark')\n",
    "\n",
    "from pyspark.sql.session import SparkSession\n",
    "spark = SparkSession(sc)"
   ]
  },
  {
   "cell_type": "markdown",
   "metadata": {},
   "source": [
    "# Data loading"
   ]
  },
  {
   "cell_type": "code",
   "execution_count": 16,
   "metadata": {},
   "outputs": [
    {
     "name": "stdout",
     "output_type": "stream",
     "text": [
      "Queens Upper East Side 5\n",
      "Queens Long Island City 4\n",
      "Queens East Village 3\n",
      "Brooklyn Williamsburg 6\n",
      "Brooklyn Midtown 2\n",
      "Brooklyn East Village 2\n",
      "Manhattan Upper East Side 50\n",
      "Manhattan Chelsea 49\n",
      "Manhattan Upper West Side 39\n",
      "Bronx East Harlem 1\n",
      "Bronx North Riverdale 1\n",
      "Bronx Hell's Kitchen 1\n"
     ]
    }
   ],
   "source": [
    "def createIndex(shapefile):\n",
    "    import rtree\n",
    "    import fiona.crs\n",
    "    import geopandas as gpd\n",
    "    zones = gpd.read_file(shapefile).to_crs(fiona.crs.from_epsg(2263))\n",
    "    index = rtree.Rtree()\n",
    "    for idx, geometry in enumerate(zones.geometry):\n",
    "        index.insert(idx, geometry.bounds)\n",
    "    return (index, zones)\n",
    "\n",
    "def findZone(p, index, zones):\n",
    "    match = index.intersection((p.x, p.y, p.x, p.y))\n",
    "    for idx in match:\n",
    "        if zones.geometry[idx].contains(p):\n",
    "            return idx\n",
    "    return None\n",
    "\n",
    "def processTrips(pid, records):\n",
    "    import csv\n",
    "    import pyproj\n",
    "    import shapely.geometry as geom\n",
    "    \n",
    "    proj = pyproj.Proj(init=\"epsg:2263\", preserve_units=True)\n",
    "    index, zones = createIndex(\"neighborhoods.geojson\")\n",
    "    area = gpd.read_file(\"neighborhoods.geojson\")[[\"neighborhood\", \"borough\"]].to_dict()\n",
    "    \n",
    "    if pid == 0:\n",
    "        next(records)\n",
    "    reader = csv.reader(records)\n",
    "    \n",
    "    counts = {}\n",
    "    for row in reader:\n",
    "        try:\n",
    "            if len(row) == 6 and row[2] and row[3] and row[4] and row[5]:\n",
    "                p1 = geom.Point(proj(float(row[5]), float(row[4])))  # dropoff, end in borough\n",
    "                p2 = geom.Point(proj(float(row[3]), float(row[2])))  # pickup, end in neighbors\n",
    "                zone1 = findZone(p1, index, zones)\n",
    "                zone2 = findZone(p2, index, zones)\n",
    "                if zone1 and zone2:\n",
    "                    zone1 = area[\"borough\"][zone1]\n",
    "                    zone2 = area[\"neighborhood\"][zone2]\n",
    "                    if zone1 in counts:\n",
    "                        counts[zone1][zone2] = counts[zone1].get(zone2, 0) + 1\n",
    "                    else:\n",
    "                        counts[zone1] = {zone2: 1}\n",
    "        except:\n",
    "            continue\n",
    "    return counts.items()\n",
    "\n",
    "if __name__==\"__main__\":\n",
    "    count = sc.textFile('yellow.csv.gz').mapPartitionsWithIndex(processTrips).collect()\n",
    "    \n",
    "    for (key, values) in count:\n",
    "        for top in sorted(values.items(), key=lambda x: -x[1])[:3]:\n",
    "            print(key, top[0], top[1])"
   ]
  },
  {
   "cell_type": "code",
   "execution_count": null,
   "metadata": {},
   "outputs": [],
   "source": []
  }
 ],
 "metadata": {
  "kernelspec": {
   "display_name": "myEnv",
   "language": "python",
   "name": "myenv"
  },
  "language_info": {
   "codemirror_mode": {
    "name": "ipython",
    "version": 3
   },
   "file_extension": ".py",
   "mimetype": "text/x-python",
   "name": "python",
   "nbconvert_exporter": "python",
   "pygments_lexer": "ipython3",
   "version": "3.5.4"
  }
 },
 "nbformat": 4,
 "nbformat_minor": 2
}
