{
 "cells": [
  {
   "cell_type": "code",
   "execution_count": 1,
   "metadata": {},
   "outputs": [],
   "source": [
    "import os\n",
    "os.environ['PYSPARK_PYTHON'] = '/nfshome/lj1230/.conda/envs/myEnv/bin/python3.5'\n",
    "\n",
    "from pyspark import SparkContext\n",
    "sc = SparkContext('local', 'pyspark')\n",
    "\n",
    "from pyspark.sql.session import SparkSession\n",
    "spark = SparkSession(sc)"
   ]
  },
  {
   "cell_type": "markdown",
   "metadata": {},
   "source": [
    "# Loading data"
   ]
  },
  {
   "cell_type": "code",
   "execution_count": 2,
   "metadata": {},
   "outputs": [
    {
     "data": {
      "text/plain": [
       "['tpep_pickup_datetime,tpep_dropoff_datetime,pickup_latitude,pickup_longitude,dropoff_latitude,dropoff_longitude',\n",
       " '2015-02-01 00:00:00.0,2015-02-01 00:10:10.0,40.775485992431641,-73.95855712890625,40.720134735107422,-73.9749755859375',\n",
       " '2015-02-01 00:00:00.0,2015-02-01 00:03:36.0,40.728248596191406,-73.984840393066406,40.731391906738281,-73.975341796875',\n",
       " '2015-02-01 00:00:00.0,2015-02-01 00:10:32.0,40.731014251708984,-74.001373291015625,40.749237060546875,-74.003067016601562',\n",
       " '2015-02-01 00:00:00.0,2015-02-01 00:19:42.0,40.721115112304688,-73.987129211425781,40.794017791748047,-73.96990966796875']"
      ]
     },
     "execution_count": 2,
     "metadata": {},
     "output_type": "execute_result"
    }
   ],
   "source": [
    "yellow = sc.textFile(\"yellow.csv.gz\")\n",
    "yellow.take(5)"
   ]
  },
  {
   "cell_type": "code",
   "execution_count": 3,
   "metadata": {},
   "outputs": [
    {
     "data": {
      "text/plain": [
       "[(0, 'tpep_pickup_datetime'),\n",
       " (1, 'tpep_dropoff_datetime'),\n",
       " (2, 'pickup_latitude'),\n",
       " (3, 'pickup_longitude'),\n",
       " (4, 'dropoff_latitude'),\n",
       " (5, 'dropoff_longitude')]"
      ]
     },
     "execution_count": 3,
     "metadata": {},
     "output_type": "execute_result"
    }
   ],
   "source": [
    "list(enumerate(yellow.first().split(\",\")))"
   ]
  },
  {
   "cell_type": "code",
   "execution_count": 4,
   "metadata": {},
   "outputs": [
    {
     "data": {
      "text/plain": [
       "['cartodb_id,the_geom,tripduration,starttime,stoptime,start_station_id,start_station_name,start_station_latitude,start_station_longitude,end_station_id,end_station_name,end_station_latitude,end_station_longitude,bikeid,usertype,birth_year,gender',\n",
       " '1,,801,2015-02-01 00:00:00+00,2015-02-01 00:14:00+00,521,8 Ave & W 31 St,40.75044999,-73.99481051,423,W 54 St & 9 Ave,40.76584941,-73.98690506,17131,Subscriber,1978,2',\n",
       " '2,,379,2015-02-01 00:00:00+00,2015-02-01 00:07:00+00,497,E 17 St & Broadway,40.73704984,-73.99009296,504,1 Ave & E 15 St,40.73221853,-73.98165557,21289,Subscriber,1993,1',\n",
       " '3,,2474,2015-02-01 00:01:00+00,2015-02-01 00:42:00+00,281,Grand Army Plaza & Central Park S,40.7643971,-73.97371465,127,Barrow St & Hudson St,40.73172428,-74.00674436,18903,Subscriber,1969,2',\n",
       " '4,,818,2015-02-01 00:01:00+00,2015-02-01 00:15:00+00,2004,6 Ave & Broome St,40.724399,-74.004704,505,6 Ave & W 33 St,40.74901271,-73.98848395,21044,Subscriber,1985,2']"
      ]
     },
     "execution_count": 4,
     "metadata": {},
     "output_type": "execute_result"
    }
   ],
   "source": [
    "bike = sc.textFile(\"citibike.csv\")\n",
    "bike.take(5)"
   ]
  },
  {
   "cell_type": "code",
   "execution_count": 5,
   "metadata": {},
   "outputs": [
    {
     "data": {
      "text/plain": [
       "[(0, 'cartodb_id'),\n",
       " (1, 'the_geom'),\n",
       " (2, 'tripduration'),\n",
       " (3, 'starttime'),\n",
       " (4, 'stoptime'),\n",
       " (5, 'start_station_id'),\n",
       " (6, 'start_station_name'),\n",
       " (7, 'start_station_latitude'),\n",
       " (8, 'start_station_longitude'),\n",
       " (9, 'end_station_id'),\n",
       " (10, 'end_station_name'),\n",
       " (11, 'end_station_latitude'),\n",
       " (12, 'end_station_longitude'),\n",
       " (13, 'bikeid'),\n",
       " (14, 'usertype'),\n",
       " (15, 'birth_year'),\n",
       " (16, 'gender')]"
      ]
     },
     "execution_count": 5,
     "metadata": {},
     "output_type": "execute_result"
    }
   ],
   "source": [
    "list(enumerate(bike.first().split(\",\")))"
   ]
  },
  {
   "cell_type": "markdown",
   "metadata": {},
   "source": [
    "# Data wrangling"
   ]
  },
  {
   "cell_type": "code",
   "execution_count": 6,
   "metadata": {},
   "outputs": [],
   "source": [
    "def filterBike(records):\n",
    "    for record in records:\n",
    "        fields = record.split(\",\")\n",
    "        if (fields[6] == \"Greenwich Ave & 8 Ave\" and fields[3].startswith(\"2015-02-01\")):\n",
    "            yield (fields[3][:19], 1)\n",
    "            \n",
    "matchBike = bike.mapPartitions(filterBike)"
   ]
  },
  {
   "cell_type": "code",
   "execution_count": 7,
   "metadata": {},
   "outputs": [
    {
     "data": {
      "text/plain": [
       "[('2015-02-01 00:05:00', 1), ('2015-02-01 00:05:00', 1)]"
      ]
     },
     "execution_count": 7,
     "metadata": {},
     "output_type": "execute_result"
    }
   ],
   "source": [
    "matchBike.take(2)"
   ]
  },
  {
   "cell_type": "code",
   "execution_count": 8,
   "metadata": {},
   "outputs": [
    {
     "data": {
      "text/plain": [
       "[(['40.73901691', '-74.00263761'], 1),\n",
       " (['40.73901691', '-74.00263761'], 1),\n",
       " (['40.73901691', '-74.00263761'], 1),\n",
       " (['40.73901691', '-74.00263761'], 1),\n",
       " (['40.73901691', '-74.00263761'], 1)]"
      ]
     },
     "execution_count": 8,
     "metadata": {},
     "output_type": "execute_result"
    }
   ],
   "source": [
    "def filterBike(records):\n",
    "    for record in records:\n",
    "        fields = record.split(\",\")\n",
    "        if (fields[6] == \"Greenwich Ave & 8 Ave\" and fields[3].startswith(\"2015-02-01\")):\n",
    "            yield (fields[7:9], 1)\n",
    "            \n",
    "bike.mapPartitions(filterBike).take(5)"
   ]
  },
  {
   "cell_type": "code",
   "execution_count": 9,
   "metadata": {},
   "outputs": [],
   "source": [
    "bikeStation = (-74.00263761, 40.73901691)"
   ]
  },
  {
   "cell_type": "code",
   "execution_count": 10,
   "metadata": {},
   "outputs": [
    {
     "data": {
      "text/plain": [
       "7278"
      ]
     },
     "execution_count": 10,
     "metadata": {},
     "output_type": "execute_result"
    }
   ],
   "source": [
    "def filterTaxi(pid, lines):\n",
    "    if pid == 0:\n",
    "        next(lines)\n",
    "    import pyproj\n",
    "    proj = pyproj.Proj(init=\"epsg:2263\", preserve_units=True)\n",
    "    station = proj(bikeStation[0], bikeStation[1])\n",
    "    sq_radius = 1320 ** 2\n",
    "    for line in lines:\n",
    "        fields = line.split(\",\")\n",
    "        try:\n",
    "            dropoff = proj(fields[5], fields[4])\n",
    "        except:\n",
    "            continue\n",
    "        sq_dist = (dropoff[0] - station[0]) ** 2 + (dropoff[1] - station[1]) ** 2\n",
    "        if fields[1].startswith(\"2015-02-01\") and sq_dist <= sq_radius:\n",
    "            yield (fields[1][:19], 0)\n",
    "\n",
    "matchedTaxi = yellow.mapPartitionsWithIndex(filterTaxi)\n",
    "matchedTaxi.count()"
   ]
  },
  {
   "cell_type": "code",
   "execution_count": 11,
   "metadata": {},
   "outputs": [
    {
     "data": {
      "text/plain": [
       "[('2015-02-01 00:11:03', 0),\n",
       " ('2015-02-01 00:10:23', 0),\n",
       " ('2015-02-01 00:16:36', 0),\n",
       " ('2015-02-01 00:10:14', 0),\n",
       " ('2015-02-01 00:10:12', 0)]"
      ]
     },
     "execution_count": 11,
     "metadata": {},
     "output_type": "execute_result"
    }
   ],
   "source": [
    "matchedTaxi.take(5)"
   ]
  },
  {
   "cell_type": "code",
   "execution_count": 12,
   "metadata": {},
   "outputs": [
    {
     "data": {
      "text/plain": [
       "[('2015-02-01 00:05:00', 1),\n",
       " ('2015-02-01 00:05:00', 1),\n",
       " ('2015-02-01 00:50:00', 1),\n",
       " ('2015-02-01 01:30:00', 1),\n",
       " ('2015-02-01 03:28:00', 1)]"
      ]
     },
     "execution_count": 12,
     "metadata": {},
     "output_type": "execute_result"
    }
   ],
   "source": [
    "matchBike.take(5)"
   ]
  },
  {
   "cell_type": "code",
   "execution_count": 13,
   "metadata": {},
   "outputs": [],
   "source": [
    "alltrip = (matchBike + matchedTaxi).sortByKey().cache()"
   ]
  },
  {
   "cell_type": "code",
   "execution_count": 14,
   "metadata": {},
   "outputs": [
    {
     "data": {
      "text/plain": [
       "[('2015-02-01 00:03:12', 0),\n",
       " ('2015-02-01 00:04:39', 0),\n",
       " ('2015-02-01 00:05:00', 1),\n",
       " ('2015-02-01 00:05:00', 1),\n",
       " ('2015-02-01 00:05:38', 0)]"
      ]
     },
     "execution_count": 14,
     "metadata": {},
     "output_type": "execute_result"
    }
   ],
   "source": [
    "alltrip.take(5)"
   ]
  },
  {
   "cell_type": "code",
   "execution_count": 15,
   "metadata": {},
   "outputs": [
    {
     "data": {
      "text/plain": [
       "65"
      ]
     },
     "execution_count": 15,
     "metadata": {},
     "output_type": "execute_result"
    }
   ],
   "source": [
    "def connextTrips(_, records):\n",
    "    import datetime\n",
    "    lastTaxiTime = None\n",
    "    count = 0\n",
    "    for dt, mode in records:\n",
    "        # 用一个指针来标记最近的taxi时间\n",
    "        t = datetime.datetime.strptime(dt, \"%Y-%m-%d %H:%M:%S\")\n",
    "        if mode == 1:\n",
    "            if lastTaxiTime != None:\n",
    "                diff = (t - lastTaxiTime).total_seconds()\n",
    "                if 0 <= diff <= 600:\n",
    "                    count += 1\n",
    "        else:\n",
    "            lastTaxiTime = t\n",
    "    yield count\n",
    "    \n",
    "count = alltrip.mapPartitionsWithIndex(connextTrips).reduce(lambda x, y: x + y)\n",
    "count"
   ]
  },
  {
   "cell_type": "markdown",
   "metadata": {},
   "source": [
    "# Data wrangling with sql"
   ]
  },
  {
   "cell_type": "code",
   "execution_count": 35,
   "metadata": {},
   "outputs": [],
   "source": [
    "import pyspark\n",
    "sqlContext = pyspark.sql.SQLContext(sc)"
   ]
  },
  {
   "cell_type": "code",
   "execution_count": 38,
   "metadata": {},
   "outputs": [
    {
     "name": "stdout",
     "output_type": "stream",
     "text": [
      "+-------------------+----+\n",
      "|               time|mode|\n",
      "+-------------------+----+\n",
      "|2015-02-01 00:03:12|   0|\n",
      "|2015-02-01 00:04:39|   0|\n",
      "|2015-02-01 00:05:00|   1|\n",
      "|2015-02-01 00:05:00|   1|\n",
      "|2015-02-01 00:05:38|   0|\n",
      "|2015-02-01 00:06:15|   0|\n",
      "|2015-02-01 00:07:07|   0|\n",
      "|2015-02-01 00:07:29|   0|\n",
      "|2015-02-01 00:07:57|   0|\n",
      "|2015-02-01 00:08:56|   0|\n",
      "|2015-02-01 00:08:57|   0|\n",
      "|2015-02-01 00:09:17|   0|\n",
      "|2015-02-01 00:09:52|   0|\n",
      "|2015-02-01 00:10:12|   0|\n",
      "|2015-02-01 00:10:14|   0|\n",
      "|2015-02-01 00:10:23|   0|\n",
      "|2015-02-01 00:10:34|   0|\n",
      "|2015-02-01 00:10:56|   0|\n",
      "|2015-02-01 00:11:01|   0|\n",
      "|2015-02-01 00:11:02|   0|\n",
      "+-------------------+----+\n",
      "only showing top 20 rows\n",
      "\n"
     ]
    }
   ],
   "source": [
    "dfAll = sqlContext.createDataFrame(alltrip)\n",
    "dfAll = dfAll.select(dfAll['_1'].alias('time'), dfAll['_2'].alias('mode'))\n",
    "dfAll.show()"
   ]
  },
  {
   "cell_type": "code",
   "execution_count": 58,
   "metadata": {},
   "outputs": [
    {
     "data": {
      "text/plain": [
       "[Row(epoch=1422766992, mode=0), Row(epoch=1422767079, mode=0)]"
      ]
     },
     "execution_count": 58,
     "metadata": {},
     "output_type": "execute_result"
    }
   ],
   "source": [
    "dfTrips = dfAll.select(dfAll[\"time\"].cast(\"timestamp\").cast(\"long\").alias(\"epoch\"), \"mode\")\n",
    "dfTrips.take(2)"
   ]
  },
  {
   "cell_type": "code",
   "execution_count": 59,
   "metadata": {},
   "outputs": [
    {
     "name": "stdout",
     "output_type": "stream",
     "text": [
      "+----------+----+\n",
      "|     epoch|mode|\n",
      "+----------+----+\n",
      "|1422766992|   0|\n",
      "|1422767079|   0|\n",
      "|1422767100|   1|\n",
      "|1422767100|   1|\n",
      "|1422767138|   0|\n",
      "|1422767175|   0|\n",
      "|1422767227|   0|\n",
      "|1422767249|   0|\n",
      "|1422767277|   0|\n",
      "|1422767336|   0|\n",
      "|1422767337|   0|\n",
      "|1422767357|   0|\n",
      "|1422767392|   0|\n",
      "|1422767412|   0|\n",
      "|1422767414|   0|\n",
      "|1422767423|   0|\n",
      "|1422767434|   0|\n",
      "|1422767456|   0|\n",
      "|1422767461|   0|\n",
      "|1422767462|   0|\n",
      "+----------+----+\n",
      "only showing top 20 rows\n",
      "\n"
     ]
    }
   ],
   "source": [
    "dfTrips.registerTempTable(\"trips\")\n",
    "dfTrips.show()"
   ]
  },
  {
   "cell_type": "code",
   "execution_count": 64,
   "metadata": {},
   "outputs": [
    {
     "name": "stdout",
     "output_type": "stream",
     "text": [
      "+-------------+\n",
      "|sum(has_taxi)|\n",
      "+-------------+\n",
      "|           65|\n",
      "+-------------+\n",
      "\n"
     ]
    }
   ],
   "source": [
    "statement = \"\"\"\n",
    "SELECT sum(has_taxi)\n",
    "FROM (SELECT mode, 1 - MIN(mode) \n",
    "OVER (ORDER BY epoch RANGE BETWEEN 600 PRECEDING AND CURRENT ROW) \n",
    "AS has_taxi FROM trips) newTrips\n",
    "WHERE mode = 1\n",
    "\"\"\"\n",
    "\n",
    "sqlContext.sql(statement).show()"
   ]
  },
  {
   "cell_type": "code",
   "execution_count": 65,
   "metadata": {},
   "outputs": [
    {
     "name": "stdout",
     "output_type": "stream",
     "text": [
      "+-------------+\n",
      "|sum(has_taxi)|\n",
      "+-------------+\n",
      "|           65|\n",
      "+-------------+\n",
      "\n"
     ]
    }
   ],
   "source": [
    "import pyspark.sql.functions as sf\n",
    "import pyspark.sql.window as sw\n",
    "\n",
    "window = sw.Window.orderBy(\"epoch\").rangeBetween(-600, 0)\n",
    "results = dfTrips.select(\"mode\", (1 - sf.min(dfTrips[\"mode\"]).over(window)).alias(\"has_taxi\")) \\\n",
    "          .filter(dfTrips[\"mode\"] == 1) \\\n",
    "          .select(sf.sum(sf.col(\"has_taxi\")))\n",
    "results.show()"
   ]
  },
  {
   "cell_type": "code",
   "execution_count": null,
   "metadata": {},
   "outputs": [],
   "source": []
  }
 ],
 "metadata": {
  "kernelspec": {
   "display_name": "myEnv",
   "language": "python",
   "name": "myenv"
  },
  "language_info": {
   "codemirror_mode": {
    "name": "ipython",
    "version": 3
   },
   "file_extension": ".py",
   "mimetype": "text/x-python",
   "name": "python",
   "nbconvert_exporter": "python",
   "pygments_lexer": "ipython3",
   "version": "3.5.4"
  }
 },
 "nbformat": 4,
 "nbformat_minor": 2
}
